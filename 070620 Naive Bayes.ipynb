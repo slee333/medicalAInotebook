{
 "cells": [
  {
   "cell_type": "markdown",
   "metadata": {},
   "source": [
    "# Naive Bayes Algorithm\n",
    "\n",
    "### Definition\n",
    "Classification 목적으로 주로 사용되는 알고리즘. 속성들 사이의 독립을 가정하는 **Bayes Theorem** 을 적용한 확률적 분류기법\n",
    "\n",
    "**Laplace Smoothing**: 학습 벡터에 제시되어 있지 않은 요소가 있는 새로운 입력 벡터로 나이브 베이즈 분류기 (Naive Bayes Classifier)에 입력되면, 조건부 확률이 0이 되어 정상적으로 분류되지 않는 경우를 방지하기 위해 확률 값을 보정하는데 사용하는 기법. \n",
    "\n",
    "**Log 변환**: 입력 벡터를 구성하는 요소가 많을 수록 입력 벡터에 대한 각각의 조건부 확률이 낮아짐. \n",
    "- 조건부 확률 값의 비교가 불가능한 underflow 현상 발생\n",
    "- underflow 현상 해결 위해 조건부 확률 계산식에 로그를 적용, 조건부 확률 값을 연산."
   ]
  },
  {
   "cell_type": "code",
   "execution_count": 2,
   "metadata": {},
   "outputs": [],
   "source": [
    "from sklearn.model_selection import train_test_split\n",
    "from sklearn.naive_bayes import GaussianNB\n",
    "\n",
    "import pandas as pd\n",
    "import numpy as np\n"
   ]
  },
  {
   "cell_type": "code",
   "execution_count": 5,
   "metadata": {},
   "outputs": [
    {
     "name": "stdout",
     "output_type": "stream",
     "text": [
      "Preprocessing done: \n",
      "     Outlook  Temperature  Humidity  Wind  PlayTennis\n",
      "0         0            3         6     8          10\n",
      "1         0            3         6     9          10\n",
      "2         1            3         6     8          11\n",
      "3         2            4         6     8          11\n",
      "4         2            5         7     8          11\n",
      "5         2            5         7     9          10\n",
      "6         1            5         7     9          11\n",
      "7         0            4         6     8          10\n",
      "8         0            5         7     8          11\n",
      "9         2            4         7     8          11\n",
      "10        0            4         7     9          11\n",
      "11        1            4         6     9          11\n",
      "12        1            3         7     8          11\n",
      "13        2            4         6     9          10\n"
     ]
    }
   ],
   "source": [
    "tennis_data = pd.read_csv('playtennis.csv')\n",
    "labels = { 'Outlook': ['Sunny', 'Overcast', 'Rain'], \n",
    "           'Temperature':['Hot', 'Mild', 'Cool'], \n",
    "           'Humidity':['High','Normal'],\n",
    "           'Wind':['Weak','Strong'],\n",
    "           'PlayTennis':['No','Yes'] }\n",
    "i = 0\n",
    "for col in list(labels.keys()):\n",
    "    for val in labels[col]:\n",
    "        tennis_data[col] = tennis_data[col].replace(val,i)\n",
    "        i += 1\n",
    "    \n",
    "print(\"Preprocessing done: \\n\", tennis_data)"
   ]
  },
  {
   "cell_type": "markdown",
   "metadata": {},
   "source": [
    "Outlook, Temperature, Humidity, Wind 값을 dataframe 형태로 추출"
   ]
  },
  {
   "cell_type": "code",
   "execution_count": 9,
   "metadata": {},
   "outputs": [
    {
     "name": "stdout",
     "output_type": "stream",
     "text": [
      "[11 10 10 10]\n"
     ]
    },
    {
     "name": "stderr",
     "output_type": "stream",
     "text": [
      "D:\\Users\\seung\\anaconda3\\lib\\site-packages\\sklearn\\naive_bayes.py:206: DataConversionWarning: A column-vector y was passed when a 1d array was expected. Please change the shape of y to (n_samples, ), for example using ravel().\n",
      "  y = column_or_1d(y, warn=True)\n"
     ]
    }
   ],
   "source": [
    "X = np.array(pd.DataFrame(tennis_data, columns = ['Outlook', 'Temperature', 'Humidity', 'Wind']))\n",
    "y = np.array(pd.DataFrame(tennis_data, columns = ['PlayTennis']))\n",
    "\n",
    "X_train, X_test, y_train, y_test = train_test_split(X,y)\n",
    "\n",
    "gnb_clf= GaussianNB() #가우시안 나이브 베이즈 모듈을 변수 gnb_clf에 저장\n",
    "gnb_clf = gnb_clf.fit (X_train, y_train)\n",
    "\n",
    "gnb_prediction = gnb_clf.predict(X_test)\n",
    "\n",
    "print(gnb_prediction)"
   ]
  },
  {
   "cell_type": "code",
   "execution_count": 10,
   "metadata": {},
   "outputs": [],
   "source": [
    "from sklearn.metrics import confusion_matrix, classification_report, f1_score, accuracy_score"
   ]
  },
  {
   "cell_type": "code",
   "execution_count": 11,
   "metadata": {},
   "outputs": [
    {
     "name": "stdout",
     "output_type": "stream",
     "text": [
      "Confusion matrix\n",
      "[[0 0]\n",
      " [3 1]]\n"
     ]
    }
   ],
   "source": [
    "print('Confusion matrix')\n",
    "print(confusion_matrix(y_test, gnb_prediction))"
   ]
  },
  {
   "cell_type": "code",
   "execution_count": 13,
   "metadata": {},
   "outputs": [
    {
     "name": "stdout",
     "output_type": "stream",
     "text": [
      "Classification Report\n",
      "              precision    recall  f1-score   support\n",
      "\n",
      "          10       0.00      0.00      0.00         0\n",
      "          11       1.00      0.25      0.40         4\n",
      "\n",
      "    accuracy                           0.25         4\n",
      "   macro avg       0.50      0.12      0.20         4\n",
      "weighted avg       1.00      0.25      0.40         4\n",
      "\n"
     ]
    }
   ],
   "source": [
    "print('Classification Report')\n",
    "print(classification_report(y_test, gnb_prediction))"
   ]
  },
  {
   "cell_type": "code",
   "execution_count": 15,
   "metadata": {},
   "outputs": [],
   "source": [
    "fmeasure = round(f1_score(y_test, gnb_prediction, average = 'weighted'),2)\n",
    "accuracy = round(accuracy_score(y_test, gnb_prediction, normalize = True),2)"
   ]
  },
  {
   "cell_type": "code",
   "execution_count": 17,
   "metadata": {},
   "outputs": [
    {
     "data": {
      "text/html": [
       "<div>\n",
       "<style scoped>\n",
       "    .dataframe tbody tr th:only-of-type {\n",
       "        vertical-align: middle;\n",
       "    }\n",
       "\n",
       "    .dataframe tbody tr th {\n",
       "        vertical-align: top;\n",
       "    }\n",
       "\n",
       "    .dataframe thead th {\n",
       "        text-align: right;\n",
       "    }\n",
       "</style>\n",
       "<table border=\"1\" class=\"dataframe\">\n",
       "  <thead>\n",
       "    <tr style=\"text-align: right;\">\n",
       "      <th></th>\n",
       "      <th>Classifier</th>\n",
       "      <th>F-measure</th>\n",
       "      <th>Accuracy</th>\n",
       "    </tr>\n",
       "  </thead>\n",
       "  <tbody>\n",
       "    <tr>\n",
       "      <th>0</th>\n",
       "      <td>Naive Bayes</td>\n",
       "      <td>0.4</td>\n",
       "      <td>0.25</td>\n",
       "    </tr>\n",
       "  </tbody>\n",
       "</table>\n",
       "</div>"
      ],
      "text/plain": [
       "    Classifier  F-measure  Accuracy\n",
       "0  Naive Bayes        0.4      0.25"
      ]
     },
     "execution_count": 17,
     "metadata": {},
     "output_type": "execute_result"
    }
   ],
   "source": [
    "df_nbclf= pd.DataFrame(columns=['Classifier','F-measure','Accuracy'])\n",
    "df_nbclf.loc[len(df_nbclf)]=['Naive Bayes', fmeasure, accuracy]\n",
    "df_nbclf"
   ]
  }
 ],
 "metadata": {
  "kernelspec": {
   "display_name": "Python 3",
   "language": "python",
   "name": "python3"
  },
  "language_info": {
   "codemirror_mode": {
    "name": "ipython",
    "version": 3
   },
   "file_extension": ".py",
   "mimetype": "text/x-python",
   "name": "python",
   "nbconvert_exporter": "python",
   "pygments_lexer": "ipython3",
   "version": "3.7.6"
  }
 },
 "nbformat": 4,
 "nbformat_minor": 4
}
