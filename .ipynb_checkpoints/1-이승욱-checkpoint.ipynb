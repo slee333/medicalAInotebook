{
 "cells": [
  {
   "cell_type": "markdown",
   "metadata": {},
   "source": [
    "# 1. \n",
    "\n",
    "test.csv 파일을 다운로드 받아 선형회귀 분석 모델을 만들고 성능을 측정하여 출력하는 코드를 작성하시오. (시각화 코드를 추가하는 경우 가산점 있습니다.)"
   ]
  },
  {
   "cell_type": "markdown",
   "metadata": {},
   "source": [
    "### 1.1. 라이브러리 불러오기\n",
    "\n",
    "필요한 라이브러리들을 불러옵니다."
   ]
  },
  {
   "cell_type": "code",
   "execution_count": 19,
   "metadata": {},
   "outputs": [],
   "source": [
    "# import all necessary libraries\n",
    "\n",
    "from sklearn import linear_model\n",
    "import numpy as np\n",
    "import pandas as pd\n",
    "import matplotlib\n",
    "import matplotlib.pyplot as plt\n",
    "from sklearn.metrics import mean_squared_error\n"
   ]
  },
  {
   "cell_type": "markdown",
   "metadata": {},
   "source": [
    "### 1.2. csv 파일 불러오기\n",
    "\n",
    "pandas를 이용하여 csv 파일을 DataFrame 형태로 읽어옵니다."
   ]
  },
  {
   "cell_type": "code",
   "execution_count": 6,
   "metadata": {},
   "outputs": [
    {
     "name": "stdout",
     "output_type": "stream",
     "text": [
      "      x          y\n",
      "0    77  79.775152\n",
      "1    21  23.177279\n",
      "2    22  25.609262\n",
      "3    20  17.857388\n",
      "4    36  41.849864\n",
      "..   ..        ...\n",
      "295  71  68.545888\n",
      "296  46  47.334876\n",
      "297  55  54.090637\n",
      "298  62  63.297171\n",
      "299  47  52.459467\n",
      "\n",
      "[300 rows x 2 columns]\n"
     ]
    }
   ],
   "source": [
    "data = pd.read_csv('test.csv')\n",
    "print(data)"
   ]
  },
  {
   "cell_type": "markdown",
   "metadata": {},
   "source": [
    "### 1.3. 선형회귀 분석 모델 만들기"
   ]
  },
  {
   "cell_type": "code",
   "execution_count": 9,
   "metadata": {},
   "outputs": [
    {
     "name": "stdout",
     "output_type": "stream",
     "text": [
      "a value =  -0.4618107736611776\n",
      "b value =  [1.01433536]\n"
     ]
    }
   ],
   "source": [
    "# 선형회귀 분석 모델을 변수 lr에 할당\n",
    "lr = linear_model.LinearRegression()\n",
    "\n",
    "# 모델 학습 학습을 위해 X 값은 2차원 형태, y 값은 1차원 형태로 입력\n",
    "lr.fit( X= pd.DataFrame(data['x']) , y= data['y'])\n",
    "prediction = lr.predict(X=pd.DataFrame(data['x']))\n",
    "print( 'a value = ', lr.intercept_ )\n",
    "print( 'b value = ', lr.coef_ )"
   ]
  },
  {
   "cell_type": "markdown",
   "metadata": {},
   "source": [
    "### 1.4 적합도 검증"
   ]
  },
  {
   "cell_type": "code",
   "execution_count": 28,
   "metadata": {},
   "outputs": [
    {
     "name": "stdout",
     "output_type": "stream",
     "text": [
      "SSE = 2749.29\n",
      "SST = 249950.86\n",
      "R squared= 0.99\n",
      "MSE=  9.16\n",
      "RMSE=  3.03\n",
      "score=  0.99\n"
     ]
    }
   ],
   "source": [
    "residuals = data['y'] - prediction\n",
    "\n",
    "\n",
    "# Explained Sum of errors (Sum of Squares error)\n",
    "SSE = (residuals**2).sum()\n",
    "print(\"SSE = {}\".format( round(SSE,2) ))\n",
    "# SST\n",
    "SST = (( prediction - data['y'].mean() )**2).sum()\n",
    "print(\"SST = {}\".format( round(SST,2) ))\n",
    "R_sq = 1 - (SSE/SST)\n",
    "print(\"R squared= {}\".format( round(R_sq,2) ))\n",
    "\n",
    "\n",
    "# Mean Squared Error를 출력\n",
    "print('MSE= ', round(mean_squared_error( prediction ,data['y']) ,2 ))\n",
    "\n",
    "# Root Mean Squared Error를 출력\n",
    "print('RMSE= ', round(mean_squared_error( prediction ,data['y'] )**0.5 ,2 ) )\n",
    "\n",
    "# Score 출력\n",
    "print('score= ', round(lr.score(X=pd.DataFrame(data['x']), y=data['y']) ,2  ))"
   ]
  },
  {
   "cell_type": "markdown",
   "metadata": {},
   "source": [
    "### 1.5 시각화 코드\n",
    "\n",
    "test.csv의 산점도와 선형회귀분석 그래프 간의 비교"
   ]
  },
  {
   "cell_type": "code",
   "execution_count": 60,
   "metadata": {},
   "outputs": [
    {
     "data": {
      "text/plain": [
       "<matplotlib.legend.Legend at 0x21d94008c48>"
      ]
     },
     "execution_count": 60,
     "metadata": {},
     "output_type": "execute_result"
    },
    {
     "data": {
      "image/png": "[encoded data removed]",
      "text/plain": [
       "<Figure size 360x360 with 1 Axes>"
      ]
     },
     "metadata": {
      "needs_background": "light"
     },
     "output_type": "display_data"
    }
   ],
   "source": [
    "# test.csv의 산점도\n",
    "data.plot(kind='scatter', x='x',y='y', figsize=(5,5), color='blue')\n",
    "\n",
    "# 선형회귀분석 데이터 표시용 데이터 생성\n",
    "x= np.arange(0,100)\n",
    "y = x*lr.coef_[0] + lr.intercept_\n",
    "\n",
    "plt.plot(x,y, lw='3', color='red')\n",
    "plt.title('Linear Regression model of test.csv')\n",
    "plt.legend( ['linear regression model', 'raw data'])"
   ]
  }
 ],
 "metadata": {
  "kernelspec": {
   "display_name": "Python 3",
   "language": "python",
   "name": "python3"
  },
  "language_info": {
   "codemirror_mode": {
    "name": "ipython",
    "version": 3
   },
   "file_extension": ".py",
   "mimetype": "text/x-python",
   "name": "python",
   "nbconvert_exporter": "python",
   "pygments_lexer": "ipython3",
   "version": "3.7.6"
  }
 },
 "nbformat": 4,
 "nbformat_minor": 4
}
