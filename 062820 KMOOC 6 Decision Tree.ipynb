{
 "cells": [
  {
   "cell_type": "markdown",
   "metadata": {},
   "source": [
    "# Decision Tree를 사용한 알고리즘\n",
    "\n",
    "#### Decision Tree  \n",
    "의사결정 트리: Supervised learning. Classification/Regression 용도로 주로 사용  \n",
    "\n",
    "목표변수에 따라...\n",
    "* *Continuous variable*: Regression Tree\n",
    "* *Discrete variable*: Classification Tree\n",
    "\n",
    "#### Composition\n",
    "1. Root Node\n",
    "2. Parent Node\n",
    "3. Child Node\n",
    "4. Terminal Node (leaf node)\n",
    "5. Branch: Connections from the root to leaves\n",
    "6. Depth: Number of node layers from root to leaves\n",
    "\n",
    "#### Decision Tree 분석과정\n",
    "1. 성장 (Growing): find the optimal split criterion, grows the tree. 적절한 Stopping rule 사용\n",
    "2. 가지치기 (Pruning): Remove unnecessary branchs that increases risk of misclassification or has inappropriate induciton rule\n",
    "3. 타당성 평가\n",
    "4. 해석 및 예측\n",
    "\n",
    "#### Decision Tree 분리기준 (Split criterion)\n",
    "1. 정보 이득 (info gain): Diff b/t entropy of parent node and that of child node"
   ]
  },
  {
   "cell_type": "markdown",
   "metadata": {},
   "source": [
    "### Assignment: Tell if you can play tennis using decision tree"
   ]
  },
  {
   "cell_type": "code",
   "execution_count": 8,
   "metadata": {},
   "outputs": [],
   "source": [
    "from sklearn.metrics import classification_report, confusion_matrix\n",
    "from sklearn.model_selection import train_test_split\n",
    "from sklearn.tree import DecisionTreeClassifier\n",
    "from sklearn import tree\n",
    "\n",
    "from IPython.display import Image\n",
    "\n",
    "import pandas as pd\n",
    "import numpy as np\n",
    "import pydotplus\n",
    "import os"
   ]
  },
  {
   "cell_type": "code",
   "execution_count": 40,
   "metadata": {},
   "outputs": [
    {
     "name": "stdout",
     "output_type": "stream",
     "text": [
      "     Outlook Temperature Humidity    Wind PlayTennis\n",
      "0      Sunny         Hot     High    Weak         No\n",
      "1      Sunny         Hot     High  Strong         No\n",
      "2   Overcast         Hot     High    Weak        Yes\n",
      "3       Rain        Mild     High    Weak        Yes\n",
      "4       Rain        Cool   Normal    Weak        Yes\n",
      "5       Rain        Cool   Normal  Strong         No\n",
      "6   Overcast        Cool   Normal  Strong        Yes\n",
      "7      Sunny        Mild     High    Weak         No\n",
      "8      Sunny        Cool   Normal    Weak        Yes\n",
      "9       Rain        Mild   Normal    Weak        Yes\n",
      "10     Sunny        Mild   Normal  Strong        Yes\n",
      "11  Overcast        Mild     High  Strong        Yes\n",
      "12  Overcast         Hot   Normal    Weak        Yes\n",
      "13      Rain        Mild     High  Strong         No\n",
      "Preprocessing done: \n",
      "     Outlook  Temperature  Humidity  Wind  PlayTennis\n",
      "0         0            3         6     8          10\n",
      "1         0            3         6     9          10\n",
      "2         1            3         6     8          11\n",
      "3         2            4         6     8          11\n",
      "4         2            5         7     8          11\n",
      "5         2            5         7     9          10\n",
      "6         1            5         7     9          11\n",
      "7         0            4         6     8          10\n",
      "8         0            5         7     8          11\n",
      "9         2            4         7     8          11\n",
      "10        0            4         7     9          11\n",
      "11        1            4         6     9          11\n",
      "12        1            3         7     8          11\n",
      "13        2            4         6     9          10\n"
     ]
    }
   ],
   "source": [
    "tennis_data = pd.read_csv('PlayTennis.csv')\n",
    "print(tennis_data)\n",
    "\n",
    "# 데이터 전처리.\n",
    "\n",
    "labels = { 'Outlook': ['Sunny', 'Overcast', 'Rain'], \n",
    "           'Temperature':['Hot', 'Mild', 'Cool'], \n",
    "           'Humidity':['High','Normal'],\n",
    "           'Wind':['Weak','Strong'],\n",
    "           'PlayTennis':['No','Yes'] }\n",
    "i = 0\n",
    "for col in list(labels.keys()):\n",
    "    for val in labels[col]:\n",
    "        tennis_data[col] = tennis_data[col].replace(val,i)\n",
    "        i += 1\n",
    "    \n",
    "print(\"Preprocessing done: \\n\", tennis_data)\n",
    "#tennis_data.Outlook = tennis_data.Outlook.replace('Sunny', 0)"
   ]
  },
  {
   "cell_type": "code",
   "execution_count": 47,
   "metadata": {},
   "outputs": [
    {
     "name": "stdout",
     "output_type": "stream",
     "text": [
      "[[1 1]\n",
      " [0 2]]\n",
      "              precision    recall  f1-score   support\n",
      "\n",
      "          10       1.00      0.50      0.67         2\n",
      "          11       0.67      1.00      0.80         2\n",
      "\n",
      "    accuracy                           0.75         4\n",
      "   macro avg       0.83      0.75      0.73         4\n",
      "weighted avg       0.83      0.75      0.73         4\n",
      "\n"
     ]
    }
   ],
   "source": [
    "X = np.array(pd.DataFrame( tennis_data, columns = ['Outlook', 'Temperature','Humidity','Wind'] ))\n",
    "y = np.array(pd.DataFrame( tennis_data, columns = ['PlayTennis'] ))\n",
    "X_train, X_test, y_train, y_test = train_test_split(X,y)\n",
    "\n",
    "dt_clf = DecisionTreeClassifier()\n",
    "dt_clf = dt_clf.fit(X_train, y_train)\n",
    "dt_pred = dt_clf.predict(X_test)\n",
    "\n",
    "print(confusion_matrix(y_test, dt_pred))\n",
    "print(classification_report(y_test, dt_pred))"
   ]
  },
  {
   "cell_type": "code",
   "execution_count": null,
   "metadata": {},
   "outputs": [],
   "source": []
  }
 ],
 "metadata": {
  "kernelspec": {
   "display_name": "Python 3",
   "language": "python",
   "name": "python3"
  },
  "language_info": {
   "codemirror_mode": {
    "name": "ipython",
    "version": 3
   },
   "file_extension": ".py",
   "mimetype": "text/x-python",
   "name": "python",
   "nbconvert_exporter": "python",
   "pygments_lexer": "ipython3",
   "version": "3.7.4"
  }
 },
 "nbformat": 4,
 "nbformat_minor": 2
}
