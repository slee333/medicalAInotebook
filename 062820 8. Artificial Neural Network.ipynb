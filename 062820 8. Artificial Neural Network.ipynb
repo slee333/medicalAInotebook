{
 "cells": [
  {
   "cell_type": "markdown",
   "metadata": {},
   "source": [
    "# 인공신경망 *Artificial Neural Network*\n",
    "\n",
    "### Terminologies\n",
    "* 구조: Input > Summation > Activation function > Output\n",
    "* Inner layer, Hidden layer (for multilayered), Output layer\n",
    "* Activation function 활성화함수: 출력값을 내보낼 때 사용하는 함수. Sigmoid, relu (rectified linear unit), 등 다양함 \n",
    "    * sigmoid function: Traditional activation funciton\n",
    "        * easily saturates. (As the function is sensitive around its mean ~ 0.5).\n",
    "        * Once saturated, it is difficult for learning algorithm to adapt to new info.\n",
    "        * Vanishing gradient problem: Errors not well-backpropagated to nodes deep in the network\n",
    "    * Rectified Linear Unit (relu): solves **vanishing gradient problem**\n",
    "\n"
   ]
  },
  {
   "cell_type": "code",
   "execution_count": 1,
   "metadata": {},
   "outputs": [
    {
     "name": "stdout",
     "output_type": "stream",
     "text": [
      "Keys:  dict_keys(['data', 'target', 'target_names', 'DESCR', 'feature_names', 'filename'])\n",
      "[[13  0  0]\n",
      " [ 0 10  2]\n",
      " [ 0  0 13]]\n",
      "              precision    recall  f1-score   support\n",
      "\n",
      "           0       1.00      1.00      1.00        13\n",
      "           1       1.00      0.83      0.91        12\n",
      "           2       0.87      1.00      0.93        13\n",
      "\n",
      "    accuracy                           0.95        38\n",
      "   macro avg       0.96      0.94      0.95        38\n",
      "weighted avg       0.95      0.95      0.95        38\n",
      "\n"
     ]
    },
    {
     "name": "stderr",
     "output_type": "stream",
     "text": [
      "/usr/local/lib/python3.7/site-packages/sklearn/neural_network/multilayer_perceptron.py:566: ConvergenceWarning: Stochastic Optimizer: Maximum iterations (200) reached and the optimization hasn't converged yet.\n",
      "  % self.max_iter, ConvergenceWarning)\n"
     ]
    }
   ],
   "source": [
    "from sklearn.datasets import load_iris\n",
    "from sklearn.model_selection import train_test_split\n",
    "from sklearn.preprocessing import StandardScaler\n",
    "\n",
    "iris = load_iris()\n",
    "\n",
    "print('Keys: ', iris.keys())\n",
    "\n",
    "X= iris['data']\n",
    "y = iris['target']\n",
    "\n",
    "X_train, X_test, y_train, y_test = train_test_split(X,y)\n",
    "scaler = StandardScaler()\n",
    "\n",
    "# X_train 데이터를 StandardScalar를 사용하여 정규화 normalization?\n",
    "scaler.fit(X_train)\n",
    "\n",
    "X_train = scaler.transform(X_train)\n",
    "X_test = scaler.transform(X_test)\n",
    "\n",
    "from sklearn.neural_network import MLPClassifier\n",
    "\n",
    "# MLP 알고리즘의 Hidden layer을 10,10,10으로 할당\n",
    "mlp = MLPClassifier(hidden_layer_sizes = (10,10,10))\n",
    "\n",
    "mlp.fit(X_train , y_train)\n",
    "\n",
    "# 학습한 데이터를 바탕으로 예측 후 prediction에 저장\n",
    "predictions = mlp.predict(X_test)\n",
    "\n",
    "from sklearn.metrics import classification_report, confusion_matrix\n",
    "\n",
    "print(confusion_matrix(y_test,predictions))\n",
    "print(classification_report(y_test,predictions))"
   ]
  },
  {
   "cell_type": "code",
   "execution_count": 2,
   "metadata": {},
   "outputs": [
    {
     "name": "stdout",
     "output_type": "stream",
     "text": [
      "[0 1 0 1 1 0 2 0 2 2 2 2 1 1 0 0 0 2 2 1 0 0 0 1 2 2 1 0 2 0 2 2 0 2 1 1 2\n",
      " 2]\n"
     ]
    }
   ],
   "source": [
    "print(predictions)"
   ]
  }
 ],
 "metadata": {
  "kernelspec": {
   "display_name": "Python 3",
   "language": "python",
   "name": "python3"
  },
  "language_info": {
   "codemirror_mode": {
    "name": "ipython",
    "version": 3
   },
   "file_extension": ".py",
   "mimetype": "text/x-python",
   "name": "python",
   "nbconvert_exporter": "python",
   "pygments_lexer": "ipython3",
   "version": "3.7.4"
  }
 },
 "nbformat": 4,
 "nbformat_minor": 2
}
